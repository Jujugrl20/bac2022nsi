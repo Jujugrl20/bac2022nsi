{
 "cells": [
  {
   "cell_type": "markdown",
   "metadata": {},
   "source": [
    "# Le bac NSI 2022 polynésie"
   ]
  },
  {
   "cell_type": "markdown",
   "metadata": {},
   "source": [
    "### Exercice 1"
   ]
  },
  {
   "cell_type": "code",
   "execution_count": 14,
   "metadata": {},
   "outputs": [],
   "source": [
    "from random import choice\n",
    "def A():\n",
    "    if choice([True, False]):\n",
    "        return \"a\"\n",
    "    else:\n",
    "        return \"a\" + A() + \"a\""
   ]
  },
  {
   "cell_type": "code",
   "execution_count": 20,
   "metadata": {},
   "outputs": [
    {
     "data": {
      "text/plain": [
       "'aaaaaaaaaaaaa'"
      ]
     },
     "execution_count": 20,
     "metadata": {},
     "output_type": "execute_result"
    }
   ],
   "source": [
    "A()"
   ]
  },
  {
   "cell_type": "markdown",
   "metadata": {},
   "source": [
    "    1. a. Cette fonction est-elle récursive ? Justifier."
   ]
  },
  {
   "cell_type": "markdown",
   "metadata": {},
   "source": [
    "Elle est récursive car une autre fonction est appelée dans cette fonction."
   ]
  },
  {
   "cell_type": "markdown",
   "metadata": {},
   "source": [
    "    b. La fonction choice([True, False]) peut renvoyer False un très grand\n",
    "    nombre de fois consécutives. Expliquer pourquoi ce cas de figure amènerait à\n",
    "    une erreur d'exécution."
   ]
  },
  {
   "cell_type": "markdown",
   "metadata": {},
   "source": [
    "La fonction choice([True, False]) peut menner à une erreur d'exécution car la fonction peut être exécutée à l'infini jusqu'à ce que la fonction choice([True, False]) renvoie True. De plus cela va saturer la mémoire.\n"
   ]
  },
  {
   "cell_type": "markdown",
   "metadata": {},
   "source": [
    "`CORRECTION:` Si la fonciton choice([True, False]) retourne 'False' un nombre de fois supérieur à la limite de profondeur de la récursivité, soit 1000(par défaut), dans se cas une erreur d'exécution se produit. Il existe une manière d'éviter cela, il faut importer le module sys et mettre une limite:"
   ]
  },
  {
   "cell_type": "code",
   "execution_count": 21,
   "metadata": {},
   "outputs": [],
   "source": [
    "import sys\n",
    "sys.setrecursionlimit(10**6)"
   ]
  },
  {
   "cell_type": "markdown",
   "metadata": {},
   "source": [
    "---------------------------------------------------------"
   ]
  },
  {
   "cell_type": "code",
   "execution_count": null,
   "metadata": {},
   "outputs": [],
   "source": [
    "def A(n):\n",
    "    if ... or choice([True, False]) :\n",
    "        return \"a\"\n",
    "    else:\n",
    "        return \"a\" + ... + \"a\""
   ]
  },
  {
   "cell_type": "markdown",
   "metadata": {},
   "source": [
    "    2. a. Recopier sur la copie et compléter aux emplacements des points de\n",
    "    suspension ... le code de cette nouvelle fonction A."
   ]
  },
  {
   "cell_type": "code",
   "execution_count": 36,
   "metadata": {},
   "outputs": [],
   "source": [
    "def A(n):\n",
    "    if n<=0 or choice([True, False]) :\n",
    "        return \"a\"\n",
    "    else:\n",
    "        return \"a\" + A(n-1) + \"a\""
   ]
  },
  {
   "cell_type": "code",
   "execution_count": 42,
   "metadata": {},
   "outputs": [
    {
     "data": {
      "text/plain": [
       "'a'"
      ]
     },
     "execution_count": 42,
     "metadata": {},
     "output_type": "execute_result"
    }
   ],
   "source": [
    "A(10)"
   ]
  },
  {
   "cell_type": "markdown",
   "metadata": {},
   "source": [
    "    b. Justifier le fait qu'un appel de la forme A(n) avec n un nombre entier positif\n",
    "    inférieur à 50, termine toujours."
   ]
  },
  {
   "cell_type": "markdown",
   "metadata": {},
   "source": [
    "La fonction A(n<50) termine toujours, cela est du à la fonction choice qui peut prendre effet mais également à la décrémentation de 'n' au fur et a mesure des récursions."
   ]
  },
  {
   "cell_type": "markdown",
   "metadata": {},
   "source": [
    "-----------------------"
   ]
  },
  {
   "cell_type": "code",
   "execution_count": null,
   "metadata": {},
   "outputs": [],
   "source": [
    "def B(n):\n",
    "    if n <= 0 or choice([True, False]):\n",
    "        return \"b\" + A(n-1) + \"b\"\n",
    "    else:\n",
    "        return \"b\" + B(n-1) + \"b\""
   ]
  },
  {
   "cell_type": "markdown",
   "metadata": {},
   "source": [
    "    3. Donner toutes les chaînes possibles renvoyées par les appels B(0), B(1)\n",
    "    et B(2)."
   ]
  },
  {
   "cell_type": "markdown",
   "metadata": {},
   "source": [
    "Pour B(0), la chaîne va être 'bab', pour B(1), les chaînes peuvent être : 'bab', 'bbabb' ou 'baaab', enfin pour B(2), les chaînes peuvent être : 'bab', 'bbabb', 'baaab', 'bbabb', 'bbbabbb' ou 'baaaaab'."
   ]
  },
  {
   "cell_type": "markdown",
   "metadata": {},
   "source": [
    "------------------------"
   ]
  },
  {
   "cell_type": "code",
   "execution_count": null,
   "metadata": {},
   "outputs": [],
   "source": [
    "def regleA(chaine):\n",
    "    n = len(chaine)\n",
    "    if n >= 2:\n",
    "        return chaine[0] == \"a\" and chaine[n-1] == \"a\" and regleA(...)\n",
    "    else:\n",
    "        return chaine == ..."
   ]
  },
  {
   "cell_type": "markdown",
   "metadata": {},
   "source": [
    "    4. a. Recopier sur la copie et compléter les points de suspension ... du code de la\n",
    "    fonction regleA ci-dessous pour qu'elle renvoie True si la chaîne passée en\n",
    "    paramètre est construite suivant la règle A, et False sinon."
   ]
  },
  {
   "cell_type": "code",
   "execution_count": 54,
   "metadata": {},
   "outputs": [],
   "source": [
    "def regleA(chaine):\n",
    "    n = len(chaine)\n",
    "    if n >= 2:\n",
    "        return chaine[0] == \"a\" and chaine[n-1] == \"a\" and regleA(True)\n",
    "    else:\n",
    "        return chaine == raccourcir()"
   ]
  },
  {
   "cell_type": "code",
   "execution_count": 56,
   "metadata": {},
   "outputs": [
    {
     "data": {
      "text/plain": [
       "False"
      ]
     },
     "execution_count": 56,
     "metadata": {},
     "output_type": "execute_result"
    }
   ],
   "source": [
    "regleA('abricot')"
   ]
  },
  {
   "cell_type": "markdown",
   "metadata": {},
   "source": [
    "    b. Écrire le code d’une fonction regleB, prenant en paramètre une chaîne de\n",
    "    caractères et renvoyant True si la chaîne est construite suivant la règle B,\n",
    "    et False sinon."
   ]
  },
  {
   "cell_type": "code",
   "execution_count": null,
   "metadata": {},
   "outputs": [],
   "source": []
  }
 ],
 "metadata": {
  "kernelspec": {
   "display_name": "Python 3",
   "language": "python",
   "name": "python3"
  },
  "language_info": {
   "codemirror_mode": {
    "name": "ipython",
    "version": 3
   },
   "file_extension": ".py",
   "mimetype": "text/x-python",
   "name": "python",
   "nbconvert_exporter": "python",
   "pygments_lexer": "ipython3",
   "version": "3.8.3"
  }
 },
 "nbformat": 4,
 "nbformat_minor": 4
}
